{
 "cells": [
  {
   "cell_type": "code",
   "execution_count": 2,
   "metadata": {},
   "outputs": [
    {
     "name": "stdout",
     "output_type": "stream",
     "text": [
      "Requirement already satisfied: quick-pypi==0.0.3a0 in d:\\python39\\lib\\site-packages (0.0.3a0)Note: you may need to restart the kernel to use updated packages.\n",
      "\n",
      "Requirement already satisfied: twine in d:\\python39\\lib\\site-packages (from quick-pypi==0.0.3a0) (4.0.1)\n",
      "Requirement already satisfied: importlib-metadata>=3.6 in d:\\python39\\lib\\site-packages (from twine->quick-pypi==0.0.3a0) (4.12.0)\n",
      "Requirement already satisfied: rfc3986>=1.4.0 in d:\\python39\\lib\\site-packages (from twine->quick-pypi==0.0.3a0) (1.5.0)\n",
      "Requirement already satisfied: rich>=12.0.0 in d:\\python39\\lib\\site-packages (from twine->quick-pypi==0.0.3a0) (12.5.1)\n",
      "Requirement already satisfied: pkginfo>=1.8.1 in d:\\python39\\lib\\site-packages (from twine->quick-pypi==0.0.3a0) (1.8.3)\n",
      "Requirement already satisfied: requests>=2.20 in d:\\python39\\lib\\site-packages (from twine->quick-pypi==0.0.3a0) (2.28.1)\n",
      "Requirement already satisfied: readme-renderer>=35.0 in d:\\python39\\lib\\site-packages (from twine->quick-pypi==0.0.3a0) (37.2)\n",
      "Requirement already satisfied: keyring>=15.1 in d:\\python39\\lib\\site-packages (from twine->quick-pypi==0.0.3a0) (23.9.3)\n",
      "Requirement already satisfied: requests-toolbelt!=0.9.0,>=0.8.0 in d:\\python39\\lib\\site-packages (from twine->quick-pypi==0.0.3a0) (0.9.1)\n",
      "Requirement already satisfied: urllib3>=1.26.0 in d:\\python39\\lib\\site-packages (from twine->quick-pypi==0.0.3a0) (1.26.12)\n",
      "Requirement already satisfied: zipp>=0.5 in d:\\python39\\lib\\site-packages (from importlib-metadata>=3.6->twine->quick-pypi==0.0.3a0) (3.8.1)\n",
      "Requirement already satisfied: jaraco.classes in d:\\python39\\lib\\site-packages (from keyring>=15.1->twine->quick-pypi==0.0.3a0) (3.2.2)\n",
      "Requirement already satisfied: pywin32-ctypes!=0.1.0,!=0.1.1 in d:\\python39\\lib\\site-packages (from keyring>=15.1->twine->quick-pypi==0.0.3a0) (0.2.0)\n",
      "Requirement already satisfied: bleach>=2.1.0 in d:\\python39\\lib\\site-packages (from readme-renderer>=35.0->twine->quick-pypi==0.0.3a0) (5.0.1)\n",
      "Requirement already satisfied: Pygments>=2.5.1 in d:\\python39\\lib\\site-packages (from readme-renderer>=35.0->twine->quick-pypi==0.0.3a0) (2.13.0)\n",
      "Requirement already satisfied: docutils>=0.13.1 in d:\\python39\\lib\\site-packages (from readme-renderer>=35.0->twine->quick-pypi==0.0.3a0) (0.19)\n",
      "Requirement already satisfied: charset-normalizer<3,>=2 in d:\\python39\\lib\\site-packages (from requests>=2.20->twine->quick-pypi==0.0.3a0) (2.1.1)\n",
      "Requirement already satisfied: certifi>=2017.4.17 in d:\\python39\\lib\\site-packages (from requests>=2.20->twine->quick-pypi==0.0.3a0) (2022.9.14)\n",
      "Requirement already satisfied: idna<4,>=2.5 in d:\\python39\\lib\\site-packages (from requests>=2.20->twine->quick-pypi==0.0.3a0) (3.4)\n",
      "Requirement already satisfied: commonmark<0.10.0,>=0.9.0 in d:\\python39\\lib\\site-packages (from rich>=12.0.0->twine->quick-pypi==0.0.3a0) (0.9.1)\n",
      "Requirement already satisfied: webencodings in d:\\python39\\lib\\site-packages (from bleach>=2.1.0->readme-renderer>=35.0->twine->quick-pypi==0.0.3a0) (0.5.1)\n",
      "Requirement already satisfied: six>=1.9.0 in d:\\python39\\lib\\site-packages (from bleach>=2.1.0->readme-renderer>=35.0->twine->quick-pypi==0.0.3a0) (1.16.0)\n",
      "Requirement already satisfied: more-itertools in d:\\python39\\lib\\site-packages (from jaraco.classes->keyring>=15.1->twine->quick-pypi==0.0.3a0) (8.14.0)\n"
     ]
    },
    {
     "name": "stderr",
     "output_type": "stream",
     "text": [
      "WARNING: You are using pip version 22.0.4; however, version 23.1.2 is available.\n",
      "You should consider upgrading via the 'd:\\Python39\\python.exe -m pip install --upgrade pip' command.\n"
     ]
    },
    {
     "name": "stdout",
     "output_type": "stream",
     "text": [
      "Requirement already satisfied: twine in d:\\python39\\lib\\site-packages (4.0.1)\n",
      "Requirement already satisfied: requests>=2.20 in d:\\python39\\lib\\site-packages (from twine) (2.28.1)\n",
      "Requirement already satisfied: keyring>=15.1 in d:\\python39\\lib\\site-packages (from twine) (23.9.3)\n",
      "Requirement already satisfied: importlib-metadata>=3.6 in d:\\python39\\lib\\site-packages (from twine) (4.12.0)\n",
      "Requirement already satisfied: rfc3986>=1.4.0 in d:\\python39\\lib\\site-packages (from twine) (1.5.0)\n",
      "Requirement already satisfied: urllib3>=1.26.0 in d:\\python39\\lib\\site-packages (from twine) (1.26.12)\n",
      "Requirement already satisfied: pkginfo>=1.8.1 in d:\\python39\\lib\\site-packages (from twine) (1.8.3)\n",
      "Requirement already satisfied: rich>=12.0.0 in d:\\python39\\lib\\site-packages (from twine) (12.5.1)\n",
      "Requirement already satisfied: requests-toolbelt!=0.9.0,>=0.8.0 in d:\\python39\\lib\\site-packages (from twine) (0.9.1)\n",
      "Requirement already satisfied: readme-renderer>=35.0 in d:\\python39\\lib\\site-packages (from twine) (37.2)\n",
      "Requirement already satisfied: zipp>=0.5 in d:\\python39\\lib\\site-packages (from importlib-metadata>=3.6->twine) (3.8.1)\n",
      "Requirement already satisfied: pywin32-ctypes!=0.1.0,!=0.1.1 in d:\\python39\\lib\\site-packages (from keyring>=15.1->twine) (0.2.0)\n",
      "Requirement already satisfied: jaraco.classes in d:\\python39\\lib\\site-packages (from keyring>=15.1->twine) (3.2.2)\n",
      "Requirement already satisfied: bleach>=2.1.0 in d:\\python39\\lib\\site-packages (from readme-renderer>=35.0->twine) (5.0.1)\n",
      "Requirement already satisfied: docutils>=0.13.1 in d:\\python39\\lib\\site-packages (from readme-renderer>=35.0->twine) (0.19)\n",
      "Requirement already satisfied: Pygments>=2.5.1 in d:\\python39\\lib\\site-packages (from readme-renderer>=35.0->twine) (2.13.0)\n",
      "Requirement already satisfied: certifi>=2017.4.17 in d:\\python39\\lib\\site-packages (from requests>=2.20->twine) (2022.9.14)\n",
      "Requirement already satisfied: charset-normalizer<3,>=2 in d:\\python39\\lib\\site-packages (from requests>=2.20->twine) (2.1.1)\n",
      "Requirement already satisfied: idna<4,>=2.5 in d:\\python39\\lib\\site-packages (from requests>=2.20->twine) (3.4)\n",
      "Requirement already satisfied: commonmark<0.10.0,>=0.9.0 in d:\\python39\\lib\\site-packages (from rich>=12.0.0->twine) (0.9.1)\n",
      "Requirement already satisfied: webencodings in d:\\python39\\lib\\site-packages (from bleach>=2.1.0->readme-renderer>=35.0->twine) (0.5.1)\n",
      "Requirement already satisfied: six>=1.9.0 in d:\\python39\\lib\\site-packages (from bleach>=2.1.0->readme-renderer>=35.0->twine) (1.16.0)\n",
      "Requirement already satisfied: more-itertools in d:\\python39\\lib\\site-packages (from jaraco.classes->keyring>=15.1->twine) (8.14.0)\n",
      "Note: you may need to restart the kernel to use updated packages.\n"
     ]
    },
    {
     "name": "stderr",
     "output_type": "stream",
     "text": [
      "WARNING: You are using pip version 22.0.4; however, version 23.1.2 is available.\n",
      "You should consider upgrading via the 'd:\\Python39\\python.exe -m pip install --upgrade pip' command.\n"
     ]
    }
   ],
   "source": [
    "%pip install quick-pypi==0.0.3a0\n",
    "%pip install twine"
   ]
  },
  {
   "cell_type": "code",
   "execution_count": 2,
   "metadata": {},
   "outputs": [
    {
     "name": "stdout",
     "output_type": "stream",
     "text": [
      "Name: quick-pypi\n",
      "Version: 0.0.3a0\n",
      "Summary: The simplest and quickest way to build and deploy a PyPI package\n",
      "Home-page: https://github.com/dhchenx/quick-pypi\n",
      "Author: Donghua Chen\n",
      "Author-email: douglaschan@126.com\n",
      "License: MIT\n",
      "Location: d:\\python39\\lib\\site-packages\n",
      "Requires: twine\n",
      "Required-by: \n"
     ]
    }
   ],
   "source": [
    "! pip show quick-pypi"
   ]
  },
  {
   "cell_type": "code",
   "execution_count": 6,
   "metadata": {},
   "outputs": [
    {
     "name": "stdout",
     "output_type": "stream",
     "text": [
      "copying src_root...\n",
      "====================Building and Uploading================\n",
      "Working directory:  c:\\Users\\dougl\\Desktop\\test3\\test1\\test_upload_pypi\\dists/0.0.2\n",
      "Starting to build...\n",
      "\n",
      "Starting to check...\n",
      "\n",
      "Starting to upload...\n"
     ]
    }
   ],
   "source": [
    "import os\n",
    "from quick_pypi.deploy import *\n",
    "auto_deploy(\n",
    "    cwd=os.getcwd(), # current working directory, generally as project root\n",
    "    name=\"quick-pypi-test\",\n",
    "    description=\"This is a quick-pypi-test package!\",\n",
    "    pypi_token='D:/GitHub/pypi_upload_token.txt', # the token string or path from your PyPI account\n",
    ")"
   ]
  },
  {
   "cell_type": "code",
   "execution_count": 1,
   "metadata": {},
   "outputs": [
    {
     "name": "stdout",
     "output_type": "stream",
     "text": [
      "src =  src\n",
      "current path:  D:\\Python39\\Lib\\site-packages\\quick_pypi\n",
      "copying src_root...\n",
      "Finished building!\n",
      "====================Uploading================\n",
      "Working directory:  c:\\Users\\dougl\\Desktop\\test3\\test1\\test_upload_pypi\\dists/0.0.3a0\n",
      "Starting to build...\n",
      "\n",
      "Starting to check...\n",
      "\n",
      "Starting to upload...\n",
      "start to Twine...\n",
      "Finished uploading!\n"
     ]
    }
   ],
   "source": [
    "from quick_pypi.deploy_toml import *\n",
    "\n",
    "auto_deploy(\n",
    "    cwd=os.getcwd(),\n",
    "    name=\"quick-pypi-test\",\n",
    "    long_name=\"A quick-pypi-test package!\",\n",
    "    description=\"This is a quick-pypi-test package!\",\n",
    "    long_description=\"This is a quick-pypi-test package!\",\n",
    "    src_root=\"src\",\n",
    "    dists_root=f\"dists\",\n",
    "    pypi_token='D:/GitHub/pypi_upload_token.txt', # a file storing the token from your PyPI account\n",
    "    test=False, # determine if uploading to test.pypi.org\n",
    "    version=\"0.0.3a0\", # fixed version when uploading or using version='auto'\n",
    "    project_url=\"http://github.com/dhchenx/quick-pypi-test\",\n",
    "    author_name=\"Donghua Chen\",\n",
    "    author_email=\"douglaschan@126.com\",\n",
    "    requires=\"quick-csv\",\n",
    "    license_filename='LICENSE',\n",
    "    keywords=\"quick-pypi, deploy, publish\",\n",
    "    github_username=\"dhchenx\",\n",
    "    console_scripts=\"\",\n",
    "    max_number_micro=20, # major.minor.micro\n",
    "    max_number_minor=20, # version maximum numbers in each part, e.g. 0.0.20 --> 0.1.0; 0.20.20 --> 1.0.0\n",
    "    # only_build=True\n",
    ")"
   ]
  }
 ],
 "metadata": {
  "kernelspec": {
   "display_name": "Python 3",
   "language": "python",
   "name": "python3"
  },
  "language_info": {
   "codemirror_mode": {
    "name": "ipython",
    "version": 3
   },
   "file_extension": ".py",
   "mimetype": "text/x-python",
   "name": "python",
   "nbconvert_exporter": "python",
   "pygments_lexer": "ipython3",
   "version": "3.9.13"
  },
  "orig_nbformat": 4
 },
 "nbformat": 4,
 "nbformat_minor": 2
}
