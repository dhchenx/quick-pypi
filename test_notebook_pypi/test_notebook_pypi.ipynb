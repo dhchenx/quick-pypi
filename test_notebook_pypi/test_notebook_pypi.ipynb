{
 "cells": [
  {
   "attachments": {},
   "cell_type": "markdown",
   "metadata": {},
   "source": [
    "### Create jupyter notebook-based PyPI package"
   ]
  },
  {
   "cell_type": "code",
   "execution_count": null,
   "metadata": {},
   "outputs": [],
   "source": [
    "# Step 0: install quick-pypi to suport fast creating a PyPI pakcage\n",
    "%pip install quick-pypi==0.0.4 -i https://pypi.org/simple"
   ]
  },
  {
   "cell_type": "code",
   "execution_count": null,
   "metadata": {},
   "outputs": [],
   "source": [
    "CURRENT_VERSION=\"0.0.4\""
   ]
  },
  {
   "cell_type": "code",
   "execution_count": null,
   "metadata": {},
   "outputs": [],
   "source": [
    "# A complex case of using `quick-pypi` with toml configuration files\n",
    "# Step 1: upload a PyPI package\n",
    "from quick_pypi.deploy_toml import *\n",
    "\n",
    "auto_deploy(\n",
    "    cwd=os.getcwd(),\n",
    "    name=\"quick-pypi-test\",\n",
    "    long_name=\"A quick-pypi-test package!\",\n",
    "    description=\"This is a quick-pypi-test package!\",\n",
    "    long_description=\"This is a quick-pypi-test package!\",\n",
    "    src_root=\"src\",\n",
    "    dists_root=f\"dists\",\n",
    "    pypi_token='D:/GitHub/pypi_upload_token.txt', # a file storing the token from your PyPI account\n",
    "    test=False, # determine if uploading to test.pypi.org\n",
    "    version=CURRENT_VERSION, # fixed version when uploading or using version='auto'\n",
    "    project_url=\"http://github.com/dhchenx/quick-pypi-test\",\n",
    "    author_name=\"Donghua Chen\",\n",
    "    author_email=\"douglaschan@126.com\",\n",
    "    requires=\"quick-csv\",\n",
    "    license_filename='LICENSE',\n",
    "    keywords=\"quick-pypi, deploy, publish\",\n",
    "    github_username=\"dhchenx\",\n",
    "    console_scripts=\"quick-pypi-test = 'quick_pypi_test:hello_world'\",\n",
    "    max_number_micro=20, # major.minor.micro\n",
    "    max_number_minor=20, # version maximum numbers in each part, e.g. 0.0.20 --> 0.1.0; 0.20.20 --> 1.0.0\n",
    "   # only_build=True\n",
    ")  "
   ]
  },
  {
   "cell_type": "code",
   "execution_count": null,
   "metadata": {},
   "outputs": [],
   "source": [
    "# Step 2: install the uploaded package\n",
    "%pip install quick-pypi-test==0.0.4 -i https://pypi.org/simple"
   ]
  },
  {
   "cell_type": "code",
   "execution_count": null,
   "metadata": {},
   "outputs": [],
   "source": [
    "# Step 3: install the `fast-nbs` package\n",
    "%pip install fast-nbs==0.0.1a0 -i https://pypi.org/simple\n"
   ]
  },
  {
   "cell_type": "code",
   "execution_count": null,
   "metadata": {},
   "outputs": [],
   "source": [
    "# show quick-pypi-test project information\n",
    "%pip show quick-pypi-test"
   ]
  },
  {
   "cell_type": "code",
   "execution_count": null,
   "metadata": {},
   "outputs": [],
   "source": [
    "# Step 4: examine the use of notebook from the package\n",
    "import fastnbs\n",
    "\n",
    "# from quick_pypi_test import lib\n",
    "from quick_pypi_test.lib import *\n",
    "\n",
    "# call the function\n",
    "say_hi()"
   ]
  },
  {
   "cell_type": "code",
   "execution_count": null,
   "metadata": {},
   "outputs": [],
   "source": [
    "# Step 5: execute cli command\n",
    "!quick-pypi-test"
   ]
  }
 ],
 "metadata": {
  "kernelspec": {
   "display_name": "Python 3",
   "language": "python",
   "name": "python3"
  },
  "language_info": {
   "codemirror_mode": {
    "name": "ipython",
    "version": 3
   },
   "file_extension": ".py",
   "mimetype": "text/x-python",
   "name": "python",
   "nbconvert_exporter": "python",
   "pygments_lexer": "ipython3",
   "version": "3.9.11"
  },
  "orig_nbformat": 4
 },
 "nbformat": 4,
 "nbformat_minor": 2
}
